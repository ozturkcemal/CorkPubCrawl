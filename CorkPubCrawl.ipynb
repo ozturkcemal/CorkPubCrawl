{
  "nbformat": 4,
  "nbformat_minor": 0,
  "metadata": {
    "colab": {
      "provenance": [],
      "authorship_tag": "ABX9TyNtvk/k5wpASHJlC52mQAbN",
      "include_colab_link": true
    },
    "kernelspec": {
      "name": "python3",
      "display_name": "Python 3"
    },
    "language_info": {
      "name": "python"
    }
  },
  "cells": [
    {
      "cell_type": "markdown",
      "metadata": {
        "id": "view-in-github",
        "colab_type": "text"
      },
      "source": [
        "<a href=\"https://colab.research.google.com/github/ozturkcemal/CorkPubCrawl/blob/main/CorkPubCrawl.ipynb\" target=\"_parent\"><img src=\"https://colab.research.google.com/assets/colab-badge.svg\" alt=\"Open In Colab\"/></a>"
      ]
    },
    {
      "cell_type": "code",
      "execution_count": null,
      "metadata": {
        "id": "8SqMtwMF17UK"
      },
      "outputs": [],
      "source": [
        "# Install and import necessary libraries\n",
        "!pip install ortools openrouteservice ipyleaflet\n",
        "from ortools.constraint_solver import routing_enums_pb2\n",
        "from ortools.constraint_solver import pywrapcp\n",
        "import openrouteservice\n",
        "from ipyleaflet import Map, Polyline, Marker, Popup\n",
        "from ipywidgets import HTML\n",
        "from IPython.display import display\n",
        "import time\n",
        "import getpass"
      ]
    },
    {
      "cell_type": "code",
      "source": [
        "# Step 1: Set coordinates with labels and API key\n",
        "coordinates = [\n",
        "    [-8.4773019737901, 51.89801157949557, \"Liberty Bar\"],\n",
        "    [-8.47839267379017, 51.89754580132632, \"Dwyers\"],\n",
        "    [-8.480129616118258, 51.897412860783, \"Costigans\"],\n",
        "    [-8.48210270262587, 51.90122750985092, \"Franciscan Well\"],\n",
        "    [-8.478174116118428, 51.89376597099192, \"Tom Barry's\"],\n",
        "    [-8.470903544953982, 51.901992373046355, \"Corner House\"],\n",
        "    [-8.47113337564154, 51.90199549372547, \"Sin E'\"],\n",
        "    [-8.4765895179699, 51.896701021615215, \"An Spailpin Fanach\"],\n",
        "    [-8.47664922081232, 51.89677734873688, \"The Oval\"],\n",
        "    [-8.466700360297953, 51.897178061440265, \"Charlies\"],\n",
        "    [-8.470990660298165, 51.89379653393844, \"Fionbarra\"],\n",
        "    [-8.469605244954147, 51.89843912054248, \"The Oliver Plunkett\"]\n",
        "]\n",
        "\n",
        "# Get ORS API key\n",
        "api_key = getpass.getpass('Enter your OpenRouteService API key: ')\n",
        "client = openrouteservice.Client(key=api_key)"
      ],
      "metadata": {
        "id": "Zqv7tcaG2SHc"
      },
      "execution_count": null,
      "outputs": []
    },
    {
      "cell_type": "code",
      "source": [
        "# Step 2: Get distance matrix\n",
        "matrix = client.distance_matrix(\n",
        "    locations=[coord[:2] for coord in coordinates],  # Extract only lon, lat\n",
        "    profile='foot-walking',\n",
        "    metrics=['distance'],\n",
        "    units='m'\n",
        ")\n",
        "distance_matrix = matrix['distances']"
      ],
      "metadata": {
        "id": "T_kf8fH5PvH7"
      },
      "execution_count": null,
      "outputs": []
    },
    {
      "cell_type": "code",
      "source": [
        "# Step 3: OR-Tools TSP solver\n",
        "def create_data_model():\n",
        "    data = {}\n",
        "    data['distance_matrix'] = distance_matrix\n",
        "    data['num_vehicles'] = 1\n",
        "    data['depot'] = 0\n",
        "    return data\n",
        "\n",
        "data = create_data_model()\n",
        "manager = pywrapcp.RoutingIndexManager(len(data['distance_matrix']), data['num_vehicles'], data['depot'])\n",
        "routing = pywrapcp.RoutingModel(manager)\n",
        "\n",
        "def distance_callback(from_index, to_index):\n",
        "    from_node = manager.IndexToNode(from_index)\n",
        "    to_node = manager.IndexToNode(to_index)\n",
        "    return int(data['distance_matrix'][from_node][to_node])\n",
        "\n",
        "transit_callback_index = routing.RegisterTransitCallback(distance_callback)\n",
        "routing.SetArcCostEvaluatorOfAllVehicles(transit_callback_index)\n",
        "\n",
        "search_parameters = pywrapcp.DefaultRoutingSearchParameters()\n",
        "search_parameters.first_solution_strategy = routing_enums_pb2.FirstSolutionStrategy.PATH_CHEAPEST_ARC\n",
        "\n",
        "solution = routing.SolveWithParameters(search_parameters)"
      ],
      "metadata": {
        "id": "R4eD8N1jPwl-"
      },
      "execution_count": null,
      "outputs": []
    },
    {
      "cell_type": "code",
      "source": [
        "# Step 4: Get optimized order\n",
        "optimized_coords = []\n",
        "if solution:\n",
        "    index = routing.Start(0)\n",
        "    while not routing.IsEnd(index):\n",
        "        node_index = manager.IndexToNode(index)\n",
        "        optimized_coords.append(coordinates[node_index])\n",
        "        index = solution.Value(routing.NextVar(index))\n",
        "    optimized_coords.append(coordinates[manager.IndexToNode(index)])\n",
        "else:\n",
        "    print(\"No solution found.\")"
      ],
      "metadata": {
        "id": "t82vYQjZP32A"
      },
      "execution_count": null,
      "outputs": []
    },
    {
      "cell_type": "code",
      "source": [
        "# Step 5: Request actual route from ORS\n",
        "route = client.directions(\n",
        "    coordinates=[coord[:2] for coord in optimized_coords],  # Extract only lon, lat\n",
        "    profile='foot-walking',\n",
        "    format='geojson'\n",
        ")\n",
        "\n",
        "# Extract route coordinates in (lat, lon)\n",
        "route_coords = [(c[1], c[0]) for c in route['features'][0]['geometry']['coordinates']]"
      ],
      "metadata": {
        "id": "0FQWlOvGP_rf"
      },
      "execution_count": null,
      "outputs": []
    },
    {
      "cell_type": "code",
      "source": [
        "# Step 6: Animate with ipyleaflet\n",
        "m = Map(center=(optimized_coords[0][1], optimized_coords[0][0]), zoom=15)\n",
        "display(m)\n",
        "\n",
        "# Add markers with labels\n",
        "for lon, lat, label in optimized_coords:\n",
        "    popup = Popup(location=(lat, lon), child=HTML(value=label), close_button=True, auto_close=False, close_on_click=True)\n",
        "    m.add_layer(Marker(location=(lat, lon), popup=popup))  # Add label as popup\n",
        "\n",
        "# Set speed (seconds between edges)\n",
        "speed = 0.2\n",
        "\n",
        "# Animate segment by segment\n",
        "for i in range(len(route_coords) - 1):\n",
        "    segment = [route_coords[i], route_coords[i + 1]]\n",
        "    pl = Polyline(locations=segment, color=\"blue\", weight=5)\n",
        "    m.add_layer(pl)\n",
        "    time.sleep(speed)"
      ],
      "metadata": {
        "id": "AxszbDzAQC2r"
      },
      "execution_count": null,
      "outputs": []
    },
    {
      "cell_type": "code",
      "source": [
        "# Step 7: Final report with optimized route and total distance\n",
        "\n",
        "# Build a lookup table for fast coordinate -> index resolution\n",
        "coordinate_to_index = {\n",
        "    (lon, lat): idx for idx, (lon, lat, _) in enumerate(coordinates)\n",
        "}\n",
        "\n",
        "print(\"\\nOptimized Route:\")\n",
        "total_distance = 0\n",
        "for i in range(len(optimized_coords) - 1):\n",
        "    lon1, lat1, label1 = optimized_coords[i]\n",
        "    lon2, lat2, label2 = optimized_coords[i + 1]\n",
        "\n",
        "    idx1 = coordinate_to_index[(lon1, lat1)]\n",
        "    idx2 = coordinate_to_index[(lon2, lat2)]\n",
        "\n",
        "    distance = distance_matrix[idx1][idx2]\n",
        "    total_distance += distance\n",
        "\n",
        "    print(f\"{label1} -> {label2}: {distance / 1000:.2f} km\")\n",
        "\n",
        "print(f\"\\nTotal Distance: {total_distance / 1000:.2f} km\")"
      ],
      "metadata": {
        "id": "qyRn77ZlQILZ"
      },
      "execution_count": null,
      "outputs": []
    }
  ]
}