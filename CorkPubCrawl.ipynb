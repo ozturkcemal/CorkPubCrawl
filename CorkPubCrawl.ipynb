{
  "nbformat": 4,
  "nbformat_minor": 0,
  "metadata": {
    "colab": {
      "provenance": [],
      "authorship_tag": "ABX9TyO7j2QpnTptMaaHSljWow37",
      "include_colab_link": true
    },
    "kernelspec": {
      "name": "python3",
      "display_name": "Python 3"
    },
    "language_info": {
      "name": "python"
    }
  },
  "cells": [
    {
      "cell_type": "markdown",
      "metadata": {
        "id": "view-in-github",
        "colab_type": "text"
      },
      "source": [
        "<a href=\"https://colab.research.google.com/github/ozturkcemal/CorkPubCrawl/blob/main/CorkPubCrawl.ipynb\" target=\"_parent\"><img src=\"https://colab.research.google.com/assets/colab-badge.svg\" alt=\"Open In Colab\"/></a>"
      ]
    },
    {
      "cell_type": "code",
      "execution_count": 1,
      "metadata": {
        "colab": {
          "base_uri": "https://localhost:8080/"
        },
        "id": "8SqMtwMF17UK",
        "outputId": "1b947853-b393-48a6-ef3c-96392fcf212d"
      },
      "outputs": [
        {
          "output_type": "stream",
          "name": "stdout",
          "text": [
            "Collecting ortools\n",
            "  Downloading ortools-9.12.4544-cp311-cp311-manylinux_2_27_x86_64.manylinux_2_28_x86_64.whl.metadata (3.3 kB)\n",
            "Collecting openrouteservice\n",
            "  Downloading openrouteservice-2.3.3-py3-none-any.whl.metadata (9.2 kB)\n",
            "Collecting absl-py>=2.0.0 (from ortools)\n",
            "  Downloading absl_py-2.2.2-py3-none-any.whl.metadata (2.6 kB)\n",
            "Requirement already satisfied: numpy>=1.13.3 in /usr/local/lib/python3.11/dist-packages (from ortools) (2.0.2)\n",
            "Requirement already satisfied: pandas>=2.0.0 in /usr/local/lib/python3.11/dist-packages (from ortools) (2.2.2)\n",
            "Requirement already satisfied: protobuf<5.30,>=5.29.3 in /usr/local/lib/python3.11/dist-packages (from ortools) (5.29.4)\n",
            "Requirement already satisfied: immutabledict>=3.0.0 in /usr/local/lib/python3.11/dist-packages (from ortools) (4.2.1)\n",
            "Requirement already satisfied: requests>=2.0 in /usr/local/lib/python3.11/dist-packages (from openrouteservice) (2.32.3)\n",
            "Requirement already satisfied: python-dateutil>=2.8.2 in /usr/local/lib/python3.11/dist-packages (from pandas>=2.0.0->ortools) (2.9.0.post0)\n",
            "Requirement already satisfied: pytz>=2020.1 in /usr/local/lib/python3.11/dist-packages (from pandas>=2.0.0->ortools) (2025.2)\n",
            "Requirement already satisfied: tzdata>=2022.7 in /usr/local/lib/python3.11/dist-packages (from pandas>=2.0.0->ortools) (2025.2)\n",
            "Requirement already satisfied: charset-normalizer<4,>=2 in /usr/local/lib/python3.11/dist-packages (from requests>=2.0->openrouteservice) (3.4.1)\n",
            "Requirement already satisfied: idna<4,>=2.5 in /usr/local/lib/python3.11/dist-packages (from requests>=2.0->openrouteservice) (3.10)\n",
            "Requirement already satisfied: urllib3<3,>=1.21.1 in /usr/local/lib/python3.11/dist-packages (from requests>=2.0->openrouteservice) (2.4.0)\n",
            "Requirement already satisfied: certifi>=2017.4.17 in /usr/local/lib/python3.11/dist-packages (from requests>=2.0->openrouteservice) (2025.4.26)\n",
            "Requirement already satisfied: six>=1.5 in /usr/local/lib/python3.11/dist-packages (from python-dateutil>=2.8.2->pandas>=2.0.0->ortools) (1.17.0)\n",
            "Downloading ortools-9.12.4544-cp311-cp311-manylinux_2_27_x86_64.manylinux_2_28_x86_64.whl (24.9 MB)\n",
            "\u001b[2K   \u001b[90m━━━━━━━━━━━━━━━━━━━━━━━━━━━━━━━━━━━━━━━━\u001b[0m \u001b[32m24.9/24.9 MB\u001b[0m \u001b[31m41.0 MB/s\u001b[0m eta \u001b[36m0:00:00\u001b[0m\n",
            "\u001b[?25hDownloading openrouteservice-2.3.3-py3-none-any.whl (33 kB)\n",
            "Downloading absl_py-2.2.2-py3-none-any.whl (135 kB)\n",
            "\u001b[2K   \u001b[90m━━━━━━━━━━━━━━━━━━━━━━━━━━━━━━━━━━━━━━━━\u001b[0m \u001b[32m135.6/135.6 kB\u001b[0m \u001b[31m9.9 MB/s\u001b[0m eta \u001b[36m0:00:00\u001b[0m\n",
            "\u001b[?25hInstalling collected packages: absl-py, openrouteservice, ortools\n",
            "  Attempting uninstall: absl-py\n",
            "    Found existing installation: absl-py 1.4.0\n",
            "    Uninstalling absl-py-1.4.0:\n",
            "      Successfully uninstalled absl-py-1.4.0\n",
            "Successfully installed absl-py-2.2.2 openrouteservice-2.3.3 ortools-9.12.4544\n"
          ]
        }
      ],
      "source": [
        "pip install ortools openrouteservice"
      ]
    },
    {
      "cell_type": "code",
      "source": [
        "# Step 1: Import libraries\n",
        "import openrouteservice\n",
        "from ortools.constraint_solver import routing_enums_pb2\n",
        "from ortools.constraint_solver import pywrapcp"
      ],
      "metadata": {
        "id": "Zqv7tcaG2SHc"
      },
      "execution_count": 2,
      "outputs": []
    },
    {
      "cell_type": "code",
      "source": [
        "# Step 2: Setup your coordinates and API key\n",
        "coordinates = [\n",
        "    [-8.4756, 51.8985],  # Cork\n",
        "    [-6.2603, 53.3498],  # Dublin\n",
        "    [-8.6306, 52.6675],  # Limerick\n",
        "    [-8.9563, 51.9036],  # Macroom\n",
        "    [-7.1870, 52.2544],  # Waterford\n",
        "]"
      ],
      "metadata": {
        "id": "MkGqoXUd2aD6"
      },
      "execution_count": 22,
      "outputs": []
    },
    {
      "cell_type": "code",
      "source": [
        "api_key = \"5b3ce3597851110001cf6248ac6b2739185944338284b13037a0ba41\"\n",
        "client = openrouteservice.Client(key=api_key)\n"
      ],
      "metadata": {
        "id": "bozEd5iE2iZO"
      },
      "execution_count": 23,
      "outputs": []
    },
    {
      "cell_type": "code",
      "source": [
        "# Step 3: Get the distance matrix from ORS\n",
        "matrix = client.distance_matrix(\n",
        "    locations=coordinates,\n",
        "    profile='driving-car',\n",
        "    metrics=['distance'],\n",
        "    units='m'\n",
        ")\n",
        "distance_matrix = matrix['distances']"
      ],
      "metadata": {
        "id": "m0C5oi2C2ruX"
      },
      "execution_count": 24,
      "outputs": []
    },
    {
      "cell_type": "code",
      "source": [
        "# Step 4: Create the data model\n",
        "def create_data_model():\n",
        "    data = {}\n",
        "    data['distance_matrix'] = distance_matrix\n",
        "    data['num_vehicles'] = 1\n",
        "    data['depot'] = 0  # Starting point\n",
        "    return data\n",
        "\n",
        "data = create_data_model()\n",
        "\n",
        "print(\"Distance Matrix:\")\n",
        "for row in distance_matrix:\n",
        "    print(row)"
      ],
      "metadata": {
        "colab": {
          "base_uri": "https://localhost:8080/"
        },
        "id": "-Lqze7WD25wU",
        "outputId": "b74c2b36-0602-4f91-e6d8-0178c2ab6294"
      },
      "execution_count": 25,
      "outputs": [
        {
          "output_type": "stream",
          "name": "stdout",
          "text": [
            "Distance Matrix:\n",
            "[0.0, 250375.11, 99402.8, 42178.38, 118048.88]\n",
            "[259431.5, 0.0, 198072.84, 293861.78, 166172.17]\n",
            "[99255.61, 199256.67, 0.0, 110158.95, 129429.84]\n",
            "[42009.57, 293068.19, 109801.24, 0.0, 156680.06]\n",
            "[121651.19, 165257.66, 128178.52, 156081.45, 0.0]\n"
          ]
        }
      ]
    },
    {
      "cell_type": "code",
      "source": [
        "# Step 5: OR-Tools setup\n",
        "manager = pywrapcp.RoutingIndexManager(len(data['distance_matrix']),\n",
        "                                       data['num_vehicles'],\n",
        "                                       data['depot'])\n",
        "routing = pywrapcp.RoutingModel(manager)\n",
        "\n",
        "def distance_callback(from_index, to_index):\n",
        "    from_node = manager.IndexToNode(from_index)\n",
        "    to_node = manager.IndexToNode(to_index)\n",
        "    return int(data['distance_matrix'][from_node][to_node])\n",
        "\n",
        "transit_callback_index = routing.RegisterTransitCallback(distance_callback)\n",
        "routing.SetArcCostEvaluatorOfAllVehicles(transit_callback_index)\n",
        "\n",
        "search_parameters = pywrapcp.DefaultRoutingSearchParameters()\n",
        "search_parameters.first_solution_strategy = (\n",
        "    routing_enums_pb2.FirstSolutionStrategy.PATH_CHEAPEST_ARC)"
      ],
      "metadata": {
        "id": "wTHvMz063QG4"
      },
      "execution_count": 26,
      "outputs": []
    },
    {
      "cell_type": "code",
      "source": [
        "# Step 6: Solve and print the solution\n",
        "solution = routing.SolveWithParameters(search_parameters)\n",
        "\n",
        "def print_solution(manager, routing, solution):\n",
        "    print(\"Optimized route:\")\n",
        "    index = routing.Start(0)\n",
        "    route = []\n",
        "    route_distance = 0\n",
        "    while not routing.IsEnd(index):\n",
        "        node = manager.IndexToNode(index)\n",
        "        route.append(node)\n",
        "        previous_index = index\n",
        "        index = solution.Value(routing.NextVar(index))\n",
        "        route_distance += routing.GetArcCostForVehicle(previous_index, index, 0)\n",
        "    route.append(manager.IndexToNode(index))\n",
        "    print(\" -> \".join(str(i) for i in route))\n",
        "    print(\"Total distance: {:.2f} km\".format(route_distance / 1000))\n",
        "\n",
        "if solution:\n",
        "    print_solution(manager, routing, solution)\n",
        "else:\n",
        "    print(\"No solution found.\")"
      ],
      "metadata": {
        "colab": {
          "base_uri": "https://localhost:8080/"
        },
        "id": "JJLr1HUi3aDQ",
        "outputId": "2eacefe6-5097-41fb-9196-c45268b5e9f2"
      },
      "execution_count": 27,
      "outputs": [
        {
          "output_type": "stream",
          "name": "stdout",
          "text": [
            "Optimized route:\n",
            "0 -> 4 -> 1 -> 2 -> 3 -> 0\n",
            "Total distance: 633.54 km\n"
          ]
        }
      ]
    }
  ]
}