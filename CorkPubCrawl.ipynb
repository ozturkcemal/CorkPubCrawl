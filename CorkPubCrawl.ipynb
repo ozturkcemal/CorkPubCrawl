{
  "nbformat": 4,
  "nbformat_minor": 0,
  "metadata": {
    "colab": {
      "provenance": [],
      "authorship_tag": "ABX9TyOuYltznaW2CI6EqpVWcywc",
      "include_colab_link": true
    },
    "kernelspec": {
      "name": "python3",
      "display_name": "Python 3"
    },
    "language_info": {
      "name": "python"
    }
  },
  "cells": [
    {
      "cell_type": "markdown",
      "metadata": {
        "id": "view-in-github",
        "colab_type": "text"
      },
      "source": [
        "<a href=\"https://colab.research.google.com/github/ozturkcemal/CorkPubCrawl/blob/main/CorkPubCrawl.ipynb\" target=\"_parent\"><img src=\"https://colab.research.google.com/assets/colab-badge.svg\" alt=\"Open In Colab\"/></a>"
      ]
    },
    {
      "cell_type": "code",
      "execution_count": null,
      "metadata": {
        "id": "8SqMtwMF17UK"
      },
      "outputs": [],
      "source": [
        "pip install ortools openrouteservice"
      ]
    },
    {
      "cell_type": "code",
      "source": [
        "# Step 1: Import libraries\n",
        "import openrouteservice\n",
        "from ortools.constraint_solver import routing_enums_pb2\n",
        "from ortools.constraint_solver import pywrapcp"
      ],
      "metadata": {
        "id": "Zqv7tcaG2SHc"
      },
      "execution_count": 2,
      "outputs": []
    },
    {
      "cell_type": "code",
      "source": [
        "# Step 2: Setup your coordinates and API key\n",
        "coordinates = [\n",
        "[-8.4773019737901, 51.89801157949557],    #Liberty Bar\n",
        "[-8.47839267379017, 51.89754580132632],   #Dwyers\n",
        "[-8.480129616118258, 51.897412860783],    #Costigans\n",
        "[-8.48210270262587, 51.90122750985092],   #Franciscan Well\n",
        "[-8.478174116118428, 51.89376597099192],  #Tom Barry's\n",
        "[-8.470903544953982, 51.901992373046355], #Corner House\n",
        "[-8.47113337564154, 51.90199549372547],   #Sin E'\n",
        "[-8.4765895179699, 51.896701021615215],   #An Spailpin Fanach\n",
        "[-8.47664922081232, 51.89677734873688],   #The Oval\n",
        "[-8.466700360297953, 51.897178061440265], #Charlies\n",
        "[-8.470990660298165, 51.89379653393844],  #Fionbarra\n",
        "[-8.469605244954147, 51.89843912054248]   # The Oliver Plunkett\n",
        "]"
      ],
      "metadata": {
        "id": "MkGqoXUd2aD6"
      },
      "execution_count": 4,
      "outputs": []
    },
    {
      "cell_type": "code",
      "source": [
        "api_key = \"5b3ce3597851110001cf6248ac6b2739185944338284b13037a0ba41\"\n",
        "client = openrouteservice.Client(key=api_key)\n"
      ],
      "metadata": {
        "id": "bozEd5iE2iZO"
      },
      "execution_count": 5,
      "outputs": []
    },
    {
      "cell_type": "code",
      "source": [
        "# Step 3: Get the distance matrix from ORS\n",
        "matrix = client.distance_matrix(\n",
        "    locations=coordinates,\n",
        "    profile='foot-walking',\n",
        "    #profile='driving-car',\n",
        "    metrics=['distance'],\n",
        "    units='m'\n",
        ")\n",
        "distance_matrix = matrix['distances']"
      ],
      "metadata": {
        "id": "m0C5oi2C2ruX"
      },
      "execution_count": 10,
      "outputs": []
    },
    {
      "cell_type": "code",
      "source": [
        "# Step 4: Create the data model\n",
        "def create_data_model():\n",
        "    data = {}\n",
        "    data['distance_matrix'] = distance_matrix\n",
        "    data['num_vehicles'] = 1\n",
        "    data['depot'] = 0  # Starting point\n",
        "    return data\n",
        "\n",
        "data = create_data_model()\n",
        "\n",
        "print(\"Distance Matrix:\")\n",
        "for row in distance_matrix:\n",
        "    print(row)"
      ],
      "metadata": {
        "id": "-Lqze7WD25wU"
      },
      "execution_count": null,
      "outputs": []
    },
    {
      "cell_type": "code",
      "source": [
        "# Step 5: OR-Tools setup\n",
        "manager = pywrapcp.RoutingIndexManager(len(data['distance_matrix']),\n",
        "                                       data['num_vehicles'],\n",
        "                                       data['depot'])\n",
        "routing = pywrapcp.RoutingModel(manager)\n",
        "\n",
        "def distance_callback(from_index, to_index):\n",
        "    from_node = manager.IndexToNode(from_index)\n",
        "    to_node = manager.IndexToNode(to_index)\n",
        "    return int(data['distance_matrix'][from_node][to_node])\n",
        "\n",
        "transit_callback_index = routing.RegisterTransitCallback(distance_callback)\n",
        "routing.SetArcCostEvaluatorOfAllVehicles(transit_callback_index)\n",
        "\n",
        "search_parameters = pywrapcp.DefaultRoutingSearchParameters()\n",
        "search_parameters.first_solution_strategy = (\n",
        "    routing_enums_pb2.FirstSolutionStrategy.PATH_CHEAPEST_ARC)"
      ],
      "metadata": {
        "id": "wTHvMz063QG4"
      },
      "execution_count": 13,
      "outputs": []
    },
    {
      "cell_type": "code",
      "source": [
        "# Step 6: Solve and print the solution\n",
        "solution = routing.SolveWithParameters(search_parameters)\n",
        "\n",
        "def print_solution(manager, routing, solution):\n",
        "    print(\"Optimized route:\")\n",
        "    index = routing.Start(0)\n",
        "    route = []\n",
        "    route_distance = 0\n",
        "    while not routing.IsEnd(index):\n",
        "        node = manager.IndexToNode(index)\n",
        "        route.append(node)\n",
        "        previous_index = index\n",
        "        index = solution.Value(routing.NextVar(index))\n",
        "        route_distance += routing.GetArcCostForVehicle(previous_index, index, 0)\n",
        "    route.append(manager.IndexToNode(index))\n",
        "    print(\" -> \".join(str(i) for i in route))\n",
        "    print(\"Total distance: {:.2f} km\".format(route_distance / 1000))\n",
        "\n",
        "if solution:\n",
        "    print_solution(manager, routing, solution)\n",
        "else:\n",
        "    print(\"No solution found.\")"
      ],
      "metadata": {
        "id": "JJLr1HUi3aDQ"
      },
      "execution_count": null,
      "outputs": []
    }
  ]
}